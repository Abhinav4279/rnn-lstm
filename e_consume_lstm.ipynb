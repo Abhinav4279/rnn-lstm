{
  "nbformat": 4,
  "nbformat_minor": 0,
  "metadata": {
    "colab": {
      "provenance": [],
      "authorship_tag": "ABX9TyNWrD0jhk7Ki1amrRA+9On6",
      "include_colab_link": true
    },
    "kernelspec": {
      "name": "python3",
      "display_name": "Python 3"
    },
    "language_info": {
      "name": "python"
    },
    "gpuClass": "standard",
    "accelerator": "GPU"
  },
  "cells": [
    {
      "cell_type": "markdown",
      "metadata": {
        "id": "view-in-github",
        "colab_type": "text"
      },
      "source": [
        "<a href=\"https://colab.research.google.com/github/nabin-nath/major-project-2/blob/electricity-consumption/e_consume_lstm.ipynb\" target=\"_parent\"><img src=\"https://colab.research.google.com/assets/colab-badge.svg\" alt=\"Open In Colab\"/></a>"
      ]
    },
    {
      "cell_type": "code",
      "source": [
        "from google.colab import drive\n",
        "drive.mount('/content/drive')"
      ],
      "metadata": {
        "colab": {
          "base_uri": "https://localhost:8080/"
        },
        "id": "jGBCnSJ40OeO",
        "outputId": "3c7e28a2-8bf5-489b-ea0e-e6858ec08d34"
      },
      "execution_count": 1,
      "outputs": [
        {
          "output_type": "stream",
          "name": "stdout",
          "text": [
            "Drive already mounted at /content/drive; to attempt to forcibly remount, call drive.mount(\"/content/drive\", force_remount=True).\n"
          ]
        }
      ]
    },
    {
      "cell_type": "code",
      "execution_count": 2,
      "metadata": {
        "id": "Y0a079Cxus7m"
      },
      "outputs": [],
      "source": [
        "#imports\n",
        "import pandas as pd\n",
        "import numpy as np\n",
        "\n",
        "\n",
        "df = pd.read_csv('/content/drive/MyDrive/Major Project - II/merged_data.csv')\n",
        "# df"
      ]
    },
    {
      "cell_type": "code",
      "source": [
        "# load the dataset, returns train and test X and y elements\n",
        "# def load_dataset():\n",
        "  # global df\n",
        "df = df.sample(frac=1).reset_index(drop=True)\n",
        "\n",
        "trainX, trainy = df.iloc[:30000, 2:], df.iloc[:30000, 1:2]\n",
        "trainX\n",
        " \n",
        "testX, testy = df.iloc[30001:, 2:], df.iloc[30001:, 1:2]\n",
        "  # print(testX.shape, testy.shape)\n",
        "\n",
        "  # print(trainX.shape, trainy.shape, testX.shape, testy.shape)\n",
        "  # return trainX, trainy, testX, testy\n",
        "\n",
        "# load_dataset()"
      ],
      "metadata": {
        "id": "m2N2jYuRxIyV"
      },
      "execution_count": 3,
      "outputs": []
    },
    {
      "cell_type": "code",
      "source": [
        "trainX.shape[1]\n",
        "# trainX.shape[2]\n",
        "# print(trainX)"
      ],
      "metadata": {
        "colab": {
          "base_uri": "https://localhost:8080/"
        },
        "id": "GxGx5d_Yzof6",
        "outputId": "5629449d-eb54-476a-f141-c8899680d085"
      },
      "execution_count": 4,
      "outputs": [
        {
          "output_type": "execute_result",
          "data": {
            "text/plain": [
              "1034"
            ]
          },
          "metadata": {},
          "execution_count": 4
        }
      ]
    },
    {
      "cell_type": "code",
      "source": [
        "from sklearn.preprocessing import MinMaxScaler\n",
        "scaler = MinMaxScaler()\n",
        "scaler.fit(trainX)\n",
        "scaled_train = scaler.transform(trainX)\n",
        "scaled_test = scaler.transform(testX)"
      ],
      "metadata": {
        "id": "dSQxnLD-3X_G"
      },
      "execution_count": 5,
      "outputs": []
    },
    {
      "cell_type": "code",
      "source": [
        "from keras.models import Sequential\n",
        "from keras.layers import Dense\n",
        "# from keras.layers import Flatten\n",
        "from keras.layers import Dropout\n",
        "from keras.layers import LSTM"
      ],
      "metadata": {
        "id": "EtilkRmm8WSx"
      },
      "execution_count": 6,
      "outputs": []
    },
    {
      "cell_type": "code",
      "source": [
        "# fit and evaluate a model\n",
        "# def evaluate_model(trainX, trainy, testX, testy):\n",
        "verbose, epochs, batch_size = 1, 15, 64\n",
        "n_timesteps, n_features, n_outputs = trainX.shape[1], 1, trainy.shape[1]\n",
        "model = Sequential()\n",
        "model.add(LSTM(100, input_shape=(n_timesteps,n_features)))\n",
        "model.add(Dropout(0.2))\n",
        "model.add(Dense(100, activation='relu'))\n",
        "model.add(Dense(n_outputs))\n",
        "model.compile(loss='categorical_crossentropy', optimizer='adam', metrics=['accuracy'])\n",
        "# fit network\n",
        "model.fit(trainX, trainy, epochs=epochs, batch_size=batch_size, verbose=verbose)\n",
        "# evaluate model\n",
        "_, accuracy = model.evaluate(testX, testy, batch_size=batch_size, verbose=0)\n",
        "\n",
        "#  return accuracy\n",
        "\n"
      ],
      "metadata": {
        "id": "5YSksItcw-7a",
        "colab": {
          "base_uri": "https://localhost:8080/"
        },
        "outputId": "aa5e9f1b-ea78-4927-8c73-e096accae048"
      },
      "execution_count": null,
      "outputs": [
        {
          "output_type": "stream",
          "name": "stdout",
          "text": [
            "Epoch 1/15\n",
            "469/469 [==============================] - 23s 46ms/step - loss: 1.0653e-08 - accuracy: 0.9105\n",
            "Epoch 2/15\n",
            "469/469 [==============================] - 21s 45ms/step - loss: 1.0653e-08 - accuracy: 0.9106\n",
            "Epoch 3/15\n",
            "469/469 [==============================] - 21s 44ms/step - loss: 1.0653e-08 - accuracy: 0.9105\n",
            "Epoch 4/15\n",
            "469/469 [==============================] - 21s 45ms/step - loss: 1.0653e-08 - accuracy: 0.9106\n",
            "Epoch 5/15\n",
            "101/469 [=====>........................] - ETA: 16s - loss: 1.0918e-08 - accuracy: 0.9083"
          ]
        }
      ]
    },
    {
      "cell_type": "code",
      "source": [],
      "metadata": {
        "id": "j9o8y06Iy31M"
      },
      "execution_count": null,
      "outputs": []
    }
  ]
}